{
 "cells": [
  {
   "cell_type": "markdown",
   "metadata": {
    "id": "EhrCDXSOi0OD"
   },
   "source": [
    "# **Use case: CAR MILEAGE PREDICTION**\n",
    "\n",
    "**This use case is intended to develop a model to predict the mileage of a car in the city.** \n",
    "\n",
    "- Data Ingestion\n",
    "- Health Check : Missing Values,Skewness,Kurtosis\n",
    "- Data Exploration : Multivariate Analysis\n",
    "- Split the Data\n",
    "- Linear Regression using SK-Learn\n",
    "- Predict and Evaluate\n",
    "- Checking Assumption and Model Diagnostics with Stats Model Library\n",
    "- Predict and Evaluate\n",
    "- Modular Improvement : Using Subset Selection\n",
    "- Final Comments and Road Map "
   ]
  },
  {
   "cell_type": "markdown",
   "metadata": {
    "id": "q4j6qCpN0d3N"
   },
   "source": [
    "## Data Ingestion"
   ]
  },
  {
   "cell_type": "code",
   "execution_count": 1,
   "metadata": {
    "id": "0zSZUAm8iyOj"
   },
   "outputs": [],
   "source": [
    "import pandas as pd\n",
    "data = pd.read_csv(\"cars.csv\")"
   ]
  },
  {
   "cell_type": "code",
   "execution_count": 2,
   "metadata": {
    "colab": {
     "base_uri": "https://localhost:8080/",
     "height": 344
    },
    "id": "YvEbtdL80yqi",
    "outputId": "3abd49de-0ffc-4efb-db15-bd202a005283"
   },
   "outputs": [
    {
     "data": {
      "text/html": [
       "<div>\n",
       "<style scoped>\n",
       "    .dataframe tbody tr th:only-of-type {\n",
       "        vertical-align: middle;\n",
       "    }\n",
       "\n",
       "    .dataframe tbody tr th {\n",
       "        vertical-align: top;\n",
       "    }\n",
       "\n",
       "    .dataframe thead th {\n",
       "        text-align: right;\n",
       "    }\n",
       "</style>\n",
       "<table border=\"1\" class=\"dataframe\">\n",
       "  <thead>\n",
       "    <tr style=\"text-align: right;\">\n",
       "      <th></th>\n",
       "      <th>Manuf</th>\n",
       "      <th>Model</th>\n",
       "      <th>Type</th>\n",
       "      <th>Origin</th>\n",
       "      <th>DriveTrain</th>\n",
       "      <th>EngineSize</th>\n",
       "      <th>Cylinders</th>\n",
       "      <th>Horsepower</th>\n",
       "      <th>MPG_City</th>\n",
       "      <th>MPG_Highway</th>\n",
       "      <th>Weight</th>\n",
       "      <th>Wheelbase</th>\n",
       "      <th>Length</th>\n",
       "      <th>MSRP</th>\n",
       "    </tr>\n",
       "  </thead>\n",
       "  <tbody>\n",
       "    <tr>\n",
       "      <th>0</th>\n",
       "      <td>Acura</td>\n",
       "      <td>NSX coupe 2dr manual S</td>\n",
       "      <td>Sports</td>\n",
       "      <td>Asia</td>\n",
       "      <td>Rear</td>\n",
       "      <td>3.2</td>\n",
       "      <td>6.0</td>\n",
       "      <td>290</td>\n",
       "      <td>17</td>\n",
       "      <td>24</td>\n",
       "      <td>3153</td>\n",
       "      <td>100</td>\n",
       "      <td>174</td>\n",
       "      <td>89765</td>\n",
       "    </tr>\n",
       "    <tr>\n",
       "      <th>1</th>\n",
       "      <td>Acura</td>\n",
       "      <td>3.5 RL w/Navigation 4dr</td>\n",
       "      <td>Sedan</td>\n",
       "      <td>Asia</td>\n",
       "      <td>Front</td>\n",
       "      <td>3.5</td>\n",
       "      <td>6.0</td>\n",
       "      <td>225</td>\n",
       "      <td>18</td>\n",
       "      <td>24</td>\n",
       "      <td>3893</td>\n",
       "      <td>115</td>\n",
       "      <td>197</td>\n",
       "      <td>46100</td>\n",
       "    </tr>\n",
       "    <tr>\n",
       "      <th>2</th>\n",
       "      <td>Acura</td>\n",
       "      <td>3.5 RL 4dr</td>\n",
       "      <td>Sedan</td>\n",
       "      <td>Asia</td>\n",
       "      <td>Front</td>\n",
       "      <td>3.5</td>\n",
       "      <td>6.0</td>\n",
       "      <td>225</td>\n",
       "      <td>18</td>\n",
       "      <td>24</td>\n",
       "      <td>3880</td>\n",
       "      <td>115</td>\n",
       "      <td>197</td>\n",
       "      <td>43755</td>\n",
       "    </tr>\n",
       "    <tr>\n",
       "      <th>3</th>\n",
       "      <td>Acura</td>\n",
       "      <td>MDX</td>\n",
       "      <td>SUV</td>\n",
       "      <td>Asia</td>\n",
       "      <td>All</td>\n",
       "      <td>3.5</td>\n",
       "      <td>6.0</td>\n",
       "      <td>265</td>\n",
       "      <td>17</td>\n",
       "      <td>23</td>\n",
       "      <td>4451</td>\n",
       "      <td>106</td>\n",
       "      <td>189</td>\n",
       "      <td>36945</td>\n",
       "    </tr>\n",
       "    <tr>\n",
       "      <th>4</th>\n",
       "      <td>Acura</td>\n",
       "      <td>TL 4dr</td>\n",
       "      <td>Sedan</td>\n",
       "      <td>Asia</td>\n",
       "      <td>Front</td>\n",
       "      <td>3.2</td>\n",
       "      <td>6.0</td>\n",
       "      <td>270</td>\n",
       "      <td>20</td>\n",
       "      <td>28</td>\n",
       "      <td>3575</td>\n",
       "      <td>108</td>\n",
       "      <td>186</td>\n",
       "      <td>33195</td>\n",
       "    </tr>\n",
       "    <tr>\n",
       "      <th>5</th>\n",
       "      <td>Acura</td>\n",
       "      <td>TSX 4dr</td>\n",
       "      <td>Sedan</td>\n",
       "      <td>Asia</td>\n",
       "      <td>Front</td>\n",
       "      <td>2.4</td>\n",
       "      <td>4.0</td>\n",
       "      <td>200</td>\n",
       "      <td>22</td>\n",
       "      <td>29</td>\n",
       "      <td>3230</td>\n",
       "      <td>105</td>\n",
       "      <td>183</td>\n",
       "      <td>26990</td>\n",
       "    </tr>\n",
       "    <tr>\n",
       "      <th>6</th>\n",
       "      <td>Acura</td>\n",
       "      <td>RSX Type S 2dr</td>\n",
       "      <td>Sedan</td>\n",
       "      <td>Asia</td>\n",
       "      <td>Front</td>\n",
       "      <td>2.0</td>\n",
       "      <td>4.0</td>\n",
       "      <td>200</td>\n",
       "      <td>24</td>\n",
       "      <td>31</td>\n",
       "      <td>2778</td>\n",
       "      <td>101</td>\n",
       "      <td>172</td>\n",
       "      <td>23820</td>\n",
       "    </tr>\n",
       "    <tr>\n",
       "      <th>7</th>\n",
       "      <td>Audi</td>\n",
       "      <td>RS 6 4dr</td>\n",
       "      <td>Sports</td>\n",
       "      <td>Europe</td>\n",
       "      <td>Front</td>\n",
       "      <td>4.2</td>\n",
       "      <td>8.0</td>\n",
       "      <td>450</td>\n",
       "      <td>15</td>\n",
       "      <td>22</td>\n",
       "      <td>4024</td>\n",
       "      <td>109</td>\n",
       "      <td>191</td>\n",
       "      <td>84600</td>\n",
       "    </tr>\n",
       "  </tbody>\n",
       "</table>\n",
       "</div>"
      ],
      "text/plain": [
       "   Manuf                    Model    Type  Origin DriveTrain  EngineSize  \\\n",
       "0  Acura   NSX coupe 2dr manual S  Sports    Asia       Rear         3.2   \n",
       "1  Acura  3.5 RL w/Navigation 4dr   Sedan    Asia      Front         3.5   \n",
       "2  Acura               3.5 RL 4dr   Sedan    Asia      Front         3.5   \n",
       "3  Acura                      MDX     SUV    Asia        All         3.5   \n",
       "4  Acura                   TL 4dr   Sedan    Asia      Front         3.2   \n",
       "5  Acura                  TSX 4dr   Sedan    Asia      Front         2.4   \n",
       "6  Acura           RSX Type S 2dr   Sedan    Asia      Front         2.0   \n",
       "7   Audi                 RS 6 4dr  Sports  Europe      Front         4.2   \n",
       "\n",
       "   Cylinders  Horsepower  MPG_City  MPG_Highway  Weight  Wheelbase  Length  \\\n",
       "0        6.0         290        17           24    3153        100     174   \n",
       "1        6.0         225        18           24    3893        115     197   \n",
       "2        6.0         225        18           24    3880        115     197   \n",
       "3        6.0         265        17           23    4451        106     189   \n",
       "4        6.0         270        20           28    3575        108     186   \n",
       "5        4.0         200        22           29    3230        105     183   \n",
       "6        4.0         200        24           31    2778        101     172   \n",
       "7        8.0         450        15           22    4024        109     191   \n",
       "\n",
       "    MSRP  \n",
       "0  89765  \n",
       "1  46100  \n",
       "2  43755  \n",
       "3  36945  \n",
       "4  33195  \n",
       "5  26990  \n",
       "6  23820  \n",
       "7  84600  "
      ]
     },
     "execution_count": 2,
     "metadata": {},
     "output_type": "execute_result"
    }
   ],
   "source": [
    "data.head(8)"
   ]
  },
  {
   "cell_type": "markdown",
   "metadata": {
    "id": "Wp3qBLkHxIpM"
   },
   "source": [
    "## Data Understanding\n",
    "\n",
    "- **This use case is intended to develop a model to predict the mileage of a car in the city. Hence the following variables are dropped from the dataset**\n",
    "- Manuf : Not a feature variable unless we create a seperate category binning a few manufacturers in specific\n",
    "groups\n",
    "- Model : not a feature variable\n",
    "- Mpg_Highway : A target variable\n",
    "- MSRP : A target variable\n"
   ]
  },
  {
   "cell_type": "code",
   "execution_count": 3,
   "metadata": {
    "colab": {
     "base_uri": "https://localhost:8080/"
    },
    "id": "09iqZLgE1d8A",
    "outputId": "bcfa7097-42a4-4b38-d3a5-7d92c9db4c73"
   },
   "outputs": [
    {
     "data": {
      "text/plain": [
       "Toyot    28\n",
       "Chevr    27\n",
       "Merce    26\n",
       "Ford     23\n",
       "BMW      20\n",
       "Audi     19\n",
       "Honda    17\n",
       "Nissa    17\n",
       "Volks    15\n",
       "Chrys    15\n",
       "Dodge    13\n",
       "Mitsu    13\n",
       "Volvo    12\n",
       "Jagua    12\n",
       "Hyund    12\n",
       "Subar    11\n",
       "Ponti    11\n",
       "Mazda    11\n",
       "Lexus    11\n",
       "Kia      11\n",
       "Buick     9\n",
       "Mercu     9\n",
       "Linco     9\n",
       "Satur     8\n",
       "Cadil     8\n",
       "Suzuk     8\n",
       "Infin     8\n",
       "GMC       8\n",
       "Acura     7\n",
       "Porsc     7\n",
       "Saab      7\n",
       "Land      3\n",
       "Oldsm     3\n",
       "Jeep      3\n",
       "Scion     2\n",
       "Isuzu     2\n",
       "MINI      2\n",
       "Humme     1\n",
       "Name: Manuf, dtype: int64"
      ]
     },
     "execution_count": 3,
     "metadata": {},
     "output_type": "execute_result"
    }
   ],
   "source": [
    "data[\"Manuf\"].value_counts()"
   ]
  },
  {
   "cell_type": "code",
   "execution_count": 4,
   "metadata": {
    "colab": {
     "base_uri": "https://localhost:8080/"
    },
    "id": "AamDlHjnx48m",
    "outputId": "f845b931-d768-4ccc-beb2-e168d6fba100"
   },
   "outputs": [
    {
     "data": {
      "text/plain": [
       "Index(['Manuf', 'Model', 'Type', 'Origin', 'DriveTrain', 'EngineSize',\n",
       "       'Cylinders', 'Horsepower', 'MPG_City', 'MPG_Highway', 'Weight',\n",
       "       'Wheelbase', 'Length', 'MSRP'],\n",
       "      dtype='object')"
      ]
     },
     "execution_count": 4,
     "metadata": {},
     "output_type": "execute_result"
    }
   ],
   "source": [
    "data.columns"
   ]
  },
  {
   "cell_type": "code",
   "execution_count": 5,
   "metadata": {
    "id": "2yxfIfiVze-G"
   },
   "outputs": [],
   "source": [
    "drop_columns = ['Manuf', 'Model','MPG_Highway','MSRP']"
   ]
  },
  {
   "cell_type": "code",
   "execution_count": 6,
   "metadata": {
    "id": "X701llluz9xn"
   },
   "outputs": [],
   "source": [
    "data_cars = data.drop(drop_columns,axis = 1)"
   ]
  },
  {
   "cell_type": "code",
   "execution_count": 7,
   "metadata": {
    "colab": {
     "base_uri": "https://localhost:8080/",
     "height": 206
    },
    "id": "jMuoSOfd0ILO",
    "outputId": "ed50f719-4f3a-407e-a918-962f6154ecb9"
   },
   "outputs": [
    {
     "data": {
      "text/html": [
       "<div>\n",
       "<style scoped>\n",
       "    .dataframe tbody tr th:only-of-type {\n",
       "        vertical-align: middle;\n",
       "    }\n",
       "\n",
       "    .dataframe tbody tr th {\n",
       "        vertical-align: top;\n",
       "    }\n",
       "\n",
       "    .dataframe thead th {\n",
       "        text-align: right;\n",
       "    }\n",
       "</style>\n",
       "<table border=\"1\" class=\"dataframe\">\n",
       "  <thead>\n",
       "    <tr style=\"text-align: right;\">\n",
       "      <th></th>\n",
       "      <th>Type</th>\n",
       "      <th>Origin</th>\n",
       "      <th>DriveTrain</th>\n",
       "      <th>EngineSize</th>\n",
       "      <th>Cylinders</th>\n",
       "      <th>Horsepower</th>\n",
       "      <th>MPG_City</th>\n",
       "      <th>Weight</th>\n",
       "      <th>Wheelbase</th>\n",
       "      <th>Length</th>\n",
       "    </tr>\n",
       "  </thead>\n",
       "  <tbody>\n",
       "    <tr>\n",
       "      <th>0</th>\n",
       "      <td>Sports</td>\n",
       "      <td>Asia</td>\n",
       "      <td>Rear</td>\n",
       "      <td>3.2</td>\n",
       "      <td>6.0</td>\n",
       "      <td>290</td>\n",
       "      <td>17</td>\n",
       "      <td>3153</td>\n",
       "      <td>100</td>\n",
       "      <td>174</td>\n",
       "    </tr>\n",
       "    <tr>\n",
       "      <th>1</th>\n",
       "      <td>Sedan</td>\n",
       "      <td>Asia</td>\n",
       "      <td>Front</td>\n",
       "      <td>3.5</td>\n",
       "      <td>6.0</td>\n",
       "      <td>225</td>\n",
       "      <td>18</td>\n",
       "      <td>3893</td>\n",
       "      <td>115</td>\n",
       "      <td>197</td>\n",
       "    </tr>\n",
       "    <tr>\n",
       "      <th>2</th>\n",
       "      <td>Sedan</td>\n",
       "      <td>Asia</td>\n",
       "      <td>Front</td>\n",
       "      <td>3.5</td>\n",
       "      <td>6.0</td>\n",
       "      <td>225</td>\n",
       "      <td>18</td>\n",
       "      <td>3880</td>\n",
       "      <td>115</td>\n",
       "      <td>197</td>\n",
       "    </tr>\n",
       "    <tr>\n",
       "      <th>3</th>\n",
       "      <td>SUV</td>\n",
       "      <td>Asia</td>\n",
       "      <td>All</td>\n",
       "      <td>3.5</td>\n",
       "      <td>6.0</td>\n",
       "      <td>265</td>\n",
       "      <td>17</td>\n",
       "      <td>4451</td>\n",
       "      <td>106</td>\n",
       "      <td>189</td>\n",
       "    </tr>\n",
       "    <tr>\n",
       "      <th>4</th>\n",
       "      <td>Sedan</td>\n",
       "      <td>Asia</td>\n",
       "      <td>Front</td>\n",
       "      <td>3.2</td>\n",
       "      <td>6.0</td>\n",
       "      <td>270</td>\n",
       "      <td>20</td>\n",
       "      <td>3575</td>\n",
       "      <td>108</td>\n",
       "      <td>186</td>\n",
       "    </tr>\n",
       "  </tbody>\n",
       "</table>\n",
       "</div>"
      ],
      "text/plain": [
       "     Type Origin DriveTrain  EngineSize  Cylinders  Horsepower  MPG_City  \\\n",
       "0  Sports   Asia       Rear         3.2        6.0         290        17   \n",
       "1   Sedan   Asia      Front         3.5        6.0         225        18   \n",
       "2   Sedan   Asia      Front         3.5        6.0         225        18   \n",
       "3     SUV   Asia        All         3.5        6.0         265        17   \n",
       "4   Sedan   Asia      Front         3.2        6.0         270        20   \n",
       "\n",
       "   Weight  Wheelbase  Length  \n",
       "0    3153        100     174  \n",
       "1    3893        115     197  \n",
       "2    3880        115     197  \n",
       "3    4451        106     189  \n",
       "4    3575        108     186  "
      ]
     },
     "execution_count": 7,
     "metadata": {},
     "output_type": "execute_result"
    }
   ],
   "source": [
    "data_cars.head()"
   ]
  },
  {
   "cell_type": "markdown",
   "metadata": {
    "id": "X-wua6LE0sbt"
   },
   "source": [
    "### Missing values"
   ]
  },
  {
   "cell_type": "code",
   "execution_count": 8,
   "metadata": {
    "colab": {
     "base_uri": "https://localhost:8080/"
    },
    "id": "gH9xQf3V0vhU",
    "outputId": "9431480d-c9f7-4da6-b95f-ea8dfb7b7737"
   },
   "outputs": [
    {
     "data": {
      "text/plain": [
       "Type          0\n",
       "Origin        0\n",
       "DriveTrain    0\n",
       "EngineSize    0\n",
       "Cylinders     2\n",
       "Horsepower    0\n",
       "MPG_City      0\n",
       "Weight        0\n",
       "Wheelbase     0\n",
       "Length        0\n",
       "dtype: int64"
      ]
     },
     "execution_count": 8,
     "metadata": {},
     "output_type": "execute_result"
    }
   ],
   "source": [
    "data_cars.isnull().sum()"
   ]
  },
  {
   "cell_type": "code",
   "execution_count": 9,
   "metadata": {
    "colab": {
     "base_uri": "https://localhost:8080/"
    },
    "id": "IZ9A3Y_Z06q1",
    "outputId": "32766f68-4adc-4143-c6be-eae471fe49f5"
   },
   "outputs": [
    {
     "data": {
      "text/plain": [
       "(428, 10)"
      ]
     },
     "execution_count": 9,
     "metadata": {},
     "output_type": "execute_result"
    }
   ],
   "source": [
    "data_cars.shape"
   ]
  },
  {
   "cell_type": "code",
   "execution_count": 10,
   "metadata": {
    "colab": {
     "base_uri": "https://localhost:8080/"
    },
    "id": "BcdiUbc41NE7",
    "outputId": "3ebf74ae-db12-4c64-976f-6040c03562f0"
   },
   "outputs": [
    {
     "data": {
      "text/plain": [
       "Type          0\n",
       "Origin        0\n",
       "DriveTrain    0\n",
       "EngineSize    0\n",
       "Cylinders     0\n",
       "Horsepower    0\n",
       "MPG_City      0\n",
       "Weight        0\n",
       "Wheelbase     0\n",
       "Length        0\n",
       "dtype: int64"
      ]
     },
     "execution_count": 10,
     "metadata": {},
     "output_type": "execute_result"
    }
   ],
   "source": [
    "# only 2 missing rows out of 428 rows , hence drop\n",
    "data_nomiss = data_cars.dropna()\n",
    "data_nomiss.isnull().sum()"
   ]
  },
  {
   "cell_type": "markdown",
   "metadata": {
    "id": "Oh14C8Iq2kio"
   },
   "source": [
    "## Creating a subset with all the numeric variables"
   ]
  },
  {
   "cell_type": "code",
   "execution_count": 11,
   "metadata": {
    "colab": {
     "base_uri": "https://localhost:8080/"
    },
    "id": "WRjtocut3iP3",
    "outputId": "ffce42b7-9e7a-44f0-92d0-2d754f0fc652"
   },
   "outputs": [
    {
     "name": "stdout",
     "output_type": "stream",
     "text": [
      "<class 'pandas.core.frame.DataFrame'>\n",
      "Int64Index: 426 entries, 0 to 427\n",
      "Data columns (total 10 columns):\n",
      " #   Column      Non-Null Count  Dtype  \n",
      "---  ------      --------------  -----  \n",
      " 0   Type        426 non-null    object \n",
      " 1   Origin      426 non-null    object \n",
      " 2   DriveTrain  426 non-null    object \n",
      " 3   EngineSize  426 non-null    float64\n",
      " 4   Cylinders   426 non-null    float64\n",
      " 5   Horsepower  426 non-null    int64  \n",
      " 6   MPG_City    426 non-null    int64  \n",
      " 7   Weight      426 non-null    int64  \n",
      " 8   Wheelbase   426 non-null    int64  \n",
      " 9   Length      426 non-null    int64  \n",
      "dtypes: float64(2), int64(5), object(3)\n",
      "memory usage: 36.6+ KB\n"
     ]
    }
   ],
   "source": [
    "data_nomiss.info()"
   ]
  },
  {
   "cell_type": "code",
   "execution_count": 12,
   "metadata": {
    "id": "lmzTE8Vx2sK9"
   },
   "outputs": [],
   "source": [
    "data_num = pd.DataFrame()\n",
    "data_cat = pd.DataFrame()\n",
    "\n",
    "for i in data_nomiss.columns:\n",
    "  if data_nomiss[i].dtype == \"object\":\n",
    "    data_cat[i] = data_nomiss[i] \n",
    "  else:\n",
    "    data_num[i] = data_nomiss[i]\n",
    "  "
   ]
  },
  {
   "cell_type": "code",
   "execution_count": 13,
   "metadata": {
    "colab": {
     "base_uri": "https://localhost:8080/",
     "height": 279
    },
    "id": "lyOZIpks3bLy",
    "outputId": "6cb05abf-6840-44ef-a593-6f134ad386b5"
   },
   "outputs": [
    {
     "data": {
      "text/html": [
       "<div>\n",
       "<style scoped>\n",
       "    .dataframe tbody tr th:only-of-type {\n",
       "        vertical-align: middle;\n",
       "    }\n",
       "\n",
       "    .dataframe tbody tr th {\n",
       "        vertical-align: top;\n",
       "    }\n",
       "\n",
       "    .dataframe thead th {\n",
       "        text-align: right;\n",
       "    }\n",
       "</style>\n",
       "<table border=\"1\" class=\"dataframe\">\n",
       "  <thead>\n",
       "    <tr style=\"text-align: right;\">\n",
       "      <th></th>\n",
       "      <th>EngineSize</th>\n",
       "      <th>Cylinders</th>\n",
       "      <th>Horsepower</th>\n",
       "      <th>MPG_City</th>\n",
       "      <th>Weight</th>\n",
       "      <th>Wheelbase</th>\n",
       "      <th>Length</th>\n",
       "    </tr>\n",
       "  </thead>\n",
       "  <tbody>\n",
       "    <tr>\n",
       "      <th>0</th>\n",
       "      <td>3.2</td>\n",
       "      <td>6.0</td>\n",
       "      <td>290</td>\n",
       "      <td>17</td>\n",
       "      <td>3153</td>\n",
       "      <td>100</td>\n",
       "      <td>174</td>\n",
       "    </tr>\n",
       "    <tr>\n",
       "      <th>1</th>\n",
       "      <td>3.5</td>\n",
       "      <td>6.0</td>\n",
       "      <td>225</td>\n",
       "      <td>18</td>\n",
       "      <td>3893</td>\n",
       "      <td>115</td>\n",
       "      <td>197</td>\n",
       "    </tr>\n",
       "    <tr>\n",
       "      <th>2</th>\n",
       "      <td>3.5</td>\n",
       "      <td>6.0</td>\n",
       "      <td>225</td>\n",
       "      <td>18</td>\n",
       "      <td>3880</td>\n",
       "      <td>115</td>\n",
       "      <td>197</td>\n",
       "    </tr>\n",
       "    <tr>\n",
       "      <th>3</th>\n",
       "      <td>3.5</td>\n",
       "      <td>6.0</td>\n",
       "      <td>265</td>\n",
       "      <td>17</td>\n",
       "      <td>4451</td>\n",
       "      <td>106</td>\n",
       "      <td>189</td>\n",
       "    </tr>\n",
       "    <tr>\n",
       "      <th>4</th>\n",
       "      <td>3.2</td>\n",
       "      <td>6.0</td>\n",
       "      <td>270</td>\n",
       "      <td>20</td>\n",
       "      <td>3575</td>\n",
       "      <td>108</td>\n",
       "      <td>186</td>\n",
       "    </tr>\n",
       "    <tr>\n",
       "      <th>5</th>\n",
       "      <td>2.4</td>\n",
       "      <td>4.0</td>\n",
       "      <td>200</td>\n",
       "      <td>22</td>\n",
       "      <td>3230</td>\n",
       "      <td>105</td>\n",
       "      <td>183</td>\n",
       "    </tr>\n",
       "    <tr>\n",
       "      <th>6</th>\n",
       "      <td>2.0</td>\n",
       "      <td>4.0</td>\n",
       "      <td>200</td>\n",
       "      <td>24</td>\n",
       "      <td>2778</td>\n",
       "      <td>101</td>\n",
       "      <td>172</td>\n",
       "    </tr>\n",
       "    <tr>\n",
       "      <th>7</th>\n",
       "      <td>4.2</td>\n",
       "      <td>8.0</td>\n",
       "      <td>450</td>\n",
       "      <td>15</td>\n",
       "      <td>4024</td>\n",
       "      <td>109</td>\n",
       "      <td>191</td>\n",
       "    </tr>\n",
       "  </tbody>\n",
       "</table>\n",
       "</div>"
      ],
      "text/plain": [
       "   EngineSize  Cylinders  Horsepower  MPG_City  Weight  Wheelbase  Length\n",
       "0         3.2        6.0         290        17    3153        100     174\n",
       "1         3.5        6.0         225        18    3893        115     197\n",
       "2         3.5        6.0         225        18    3880        115     197\n",
       "3         3.5        6.0         265        17    4451        106     189\n",
       "4         3.2        6.0         270        20    3575        108     186\n",
       "5         2.4        4.0         200        22    3230        105     183\n",
       "6         2.0        4.0         200        24    2778        101     172\n",
       "7         4.2        8.0         450        15    4024        109     191"
      ]
     },
     "execution_count": 13,
     "metadata": {},
     "output_type": "execute_result"
    }
   ],
   "source": [
    "data_num.head(8)"
   ]
  },
  {
   "cell_type": "markdown",
   "metadata": {
    "id": "HrVnvonF6RSn"
   },
   "source": [
    "# Multivariate Data Exploration: Pairplot and Heatmap"
   ]
  },
  {
   "cell_type": "code",
   "execution_count": 14,
   "metadata": {
    "colab": {
     "base_uri": "https://localhost:8080/",
     "height": 1000
    },
    "id": "V5Zmrcen6WKA",
    "outputId": "6d17f973-aa0c-4f38-c1ea-47656140dd15"
   },
   "outputs": [
    {
     "data": {
      "text/plain": [
       "<seaborn.axisgrid.PairGrid at 0x21fb73e07f0>"
      ]
     },
     "execution_count": 14,
     "metadata": {},
     "output_type": "execute_result"
    },
    {
     "data": {
      "image/png": "[encoded data removed]",
      "text/plain": [
       "<Figure size 1260x1260 with 56 Axes>"
      ]
     },
     "metadata": {
      "needs_background": "light"
     },
     "output_type": "display_data"
    }
   ],
   "source": [
    "import seaborn as sns\n",
    "sns.pairplot(data_num,diag_kind = \"kde\")"
   ]
  },
  {
   "cell_type": "code",
   "execution_count": 15,
   "metadata": {
    "colab": {
     "base_uri": "https://localhost:8080/",
     "height": 269
    },
    "id": "qBTfH_er7Rfo",
    "outputId": "b16796df-5153-4b4c-c455-f33e5546bae4"
   },
   "outputs": [
    {
     "data": {
      "text/html": [
       "<div>\n",
       "<style scoped>\n",
       "    .dataframe tbody tr th:only-of-type {\n",
       "        vertical-align: middle;\n",
       "    }\n",
       "\n",
       "    .dataframe tbody tr th {\n",
       "        vertical-align: top;\n",
       "    }\n",
       "\n",
       "    .dataframe thead th {\n",
       "        text-align: right;\n",
       "    }\n",
       "</style>\n",
       "<table border=\"1\" class=\"dataframe\">\n",
       "  <thead>\n",
       "    <tr style=\"text-align: right;\">\n",
       "      <th></th>\n",
       "      <th>EngineSize</th>\n",
       "      <th>Cylinders</th>\n",
       "      <th>Horsepower</th>\n",
       "      <th>MPG_City</th>\n",
       "      <th>Weight</th>\n",
       "      <th>Wheelbase</th>\n",
       "      <th>Length</th>\n",
       "    </tr>\n",
       "  </thead>\n",
       "  <tbody>\n",
       "    <tr>\n",
       "      <th>EngineSize</th>\n",
       "      <td>1.000000</td>\n",
       "      <td>0.908002</td>\n",
       "      <td>0.793250</td>\n",
       "      <td>-0.717860</td>\n",
       "      <td>0.808707</td>\n",
       "      <td>0.638947</td>\n",
       "      <td>0.636015</td>\n",
       "    </tr>\n",
       "    <tr>\n",
       "      <th>Cylinders</th>\n",
       "      <td>0.908002</td>\n",
       "      <td>1.000000</td>\n",
       "      <td>0.810341</td>\n",
       "      <td>-0.684402</td>\n",
       "      <td>0.742209</td>\n",
       "      <td>0.546730</td>\n",
       "      <td>0.547783</td>\n",
       "    </tr>\n",
       "    <tr>\n",
       "      <th>Horsepower</th>\n",
       "      <td>0.793250</td>\n",
       "      <td>0.810341</td>\n",
       "      <td>1.000000</td>\n",
       "      <td>-0.677034</td>\n",
       "      <td>0.631758</td>\n",
       "      <td>0.387561</td>\n",
       "      <td>0.382386</td>\n",
       "    </tr>\n",
       "    <tr>\n",
       "      <th>MPG_City</th>\n",
       "      <td>-0.717860</td>\n",
       "      <td>-0.684402</td>\n",
       "      <td>-0.677034</td>\n",
       "      <td>1.000000</td>\n",
       "      <td>-0.740418</td>\n",
       "      <td>-0.508029</td>\n",
       "      <td>-0.504184</td>\n",
       "    </tr>\n",
       "    <tr>\n",
       "      <th>Weight</th>\n",
       "      <td>0.808707</td>\n",
       "      <td>0.742209</td>\n",
       "      <td>0.631758</td>\n",
       "      <td>-0.740418</td>\n",
       "      <td>1.000000</td>\n",
       "      <td>0.760857</td>\n",
       "      <td>0.689168</td>\n",
       "    </tr>\n",
       "    <tr>\n",
       "      <th>Wheelbase</th>\n",
       "      <td>0.638947</td>\n",
       "      <td>0.546730</td>\n",
       "      <td>0.387561</td>\n",
       "      <td>-0.508029</td>\n",
       "      <td>0.760857</td>\n",
       "      <td>1.000000</td>\n",
       "      <td>0.889838</td>\n",
       "    </tr>\n",
       "    <tr>\n",
       "      <th>Length</th>\n",
       "      <td>0.636015</td>\n",
       "      <td>0.547783</td>\n",
       "      <td>0.382386</td>\n",
       "      <td>-0.504184</td>\n",
       "      <td>0.689168</td>\n",
       "      <td>0.889838</td>\n",
       "      <td>1.000000</td>\n",
       "    </tr>\n",
       "  </tbody>\n",
       "</table>\n",
       "</div>"
      ],
      "text/plain": [
       "            EngineSize  Cylinders  Horsepower  MPG_City    Weight  Wheelbase  \\\n",
       "EngineSize    1.000000   0.908002    0.793250 -0.717860  0.808707   0.638947   \n",
       "Cylinders     0.908002   1.000000    0.810341 -0.684402  0.742209   0.546730   \n",
       "Horsepower    0.793250   0.810341    1.000000 -0.677034  0.631758   0.387561   \n",
       "MPG_City     -0.717860  -0.684402   -0.677034  1.000000 -0.740418  -0.508029   \n",
       "Weight        0.808707   0.742209    0.631758 -0.740418  1.000000   0.760857   \n",
       "Wheelbase     0.638947   0.546730    0.387561 -0.508029  0.760857   1.000000   \n",
       "Length        0.636015   0.547783    0.382386 -0.504184  0.689168   0.889838   \n",
       "\n",
       "              Length  \n",
       "EngineSize  0.636015  \n",
       "Cylinders   0.547783  \n",
       "Horsepower  0.382386  \n",
       "MPG_City   -0.504184  \n",
       "Weight      0.689168  \n",
       "Wheelbase   0.889838  \n",
       "Length      1.000000  "
      ]
     },
     "execution_count": 15,
     "metadata": {},
     "output_type": "execute_result"
    }
   ],
   "source": [
    "# Check Multicollinearity\n",
    "data_num.corr(method = \"pearson\")"
   ]
  },
  {
   "cell_type": "code",
   "execution_count": 16,
   "metadata": {
    "colab": {
     "base_uri": "https://localhost:8080/",
     "height": 336
    },
    "id": "JqDCqqnL8QQH",
    "outputId": "61aa3ebb-3905-4a39-8715-cdfdd255da46"
   },
   "outputs": [
    {
     "data": {
      "text/plain": [
       "<AxesSubplot:>"
      ]
     },
     "execution_count": 16,
     "metadata": {},
     "output_type": "execute_result"
    },
    {
     "data": {
      "image/png": "[encoded data removed]",
      "text/plain": [
       "<Figure size 432x288 with 2 Axes>"
      ]
     },
     "metadata": {
      "needs_background": "light"
     },
     "output_type": "display_data"
    }
   ],
   "source": [
    "sns.heatmap(data_num.corr(method = \"pearson\") , annot = True)"
   ]
  },
  {
   "cell_type": "markdown",
   "metadata": {
    "id": "iuMa2NGY88i9"
   },
   "source": [
    "## Split the data into feature and target"
   ]
  },
  {
   "cell_type": "code",
   "execution_count": 17,
   "metadata": {
    "id": "vNoA7_lO9J6-"
   },
   "outputs": [],
   "source": [
    "cars_features = data_num.drop(\"MPG_City\",axis = 1)\n",
    "cars_target = data_num[\"MPG_City\"]"
   ]
  },
  {
   "cell_type": "markdown",
   "metadata": {
    "id": "QMSv7-fc9ntI"
   },
   "source": [
    "## Split the data into Train and Test"
   ]
  },
  {
   "cell_type": "code",
   "execution_count": 18,
   "metadata": {
    "id": "Bg1gXXfd9vnP"
   },
   "outputs": [],
   "source": [
    "from sklearn.model_selection import train_test_split\n",
    "\n",
    "features_train,features_test,target_train,target_test=train_test_split(cars_features,cars_target,test_size=0.3,random_state=5)"
   ]
  },
  {
   "cell_type": "code",
   "execution_count": 19,
   "metadata": {
    "colab": {
     "base_uri": "https://localhost:8080/"
    },
    "id": "J9vWzWCQ-LSJ",
    "outputId": "892bdb1e-e371-42f7-f899-f86ab37d7d80"
   },
   "outputs": [
    {
     "data": {
      "text/plain": [
       "(298, 6)"
      ]
     },
     "execution_count": 19,
     "metadata": {},
     "output_type": "execute_result"
    }
   ],
   "source": [
    "features_train.shape"
   ]
  },
  {
   "cell_type": "code",
   "execution_count": 20,
   "metadata": {
    "colab": {
     "base_uri": "https://localhost:8080/"
    },
    "id": "B0b9P8Jg-S1-",
    "outputId": "cb8854c2-0ccb-439d-a893-7cb889056b5a"
   },
   "outputs": [
    {
     "data": {
      "text/plain": [
       "(128, 6)"
      ]
     },
     "execution_count": 20,
     "metadata": {},
     "output_type": "execute_result"
    }
   ],
   "source": [
    "features_test.shape"
   ]
  },
  {
   "cell_type": "markdown",
   "metadata": {
    "id": "z_dvmGw--qq4"
   },
   "source": [
    "# **First Regression model with all the numeric variables using sklearn library**"
   ]
  },
  {
   "cell_type": "code",
   "execution_count": 21,
   "metadata": {
    "id": "f8Z4sdng-H03"
   },
   "outputs": [],
   "source": [
    "from sklearn.linear_model import LinearRegression"
   ]
  },
  {
   "cell_type": "code",
   "execution_count": 22,
   "metadata": {
    "id": "tx6fiE5G9f9B"
   },
   "outputs": [],
   "source": [
    "model=LinearRegression()"
   ]
  },
  {
   "cell_type": "code",
   "execution_count": 23,
   "metadata": {
    "colab": {
     "base_uri": "https://localhost:8080/"
    },
    "id": "mS1tdzL48hBv",
    "outputId": "7562fb9f-d911-4ea9-c1c8-112bf619de16"
   },
   "outputs": [
    {
     "data": {
      "text/plain": [
       "LinearRegression()"
      ]
     },
     "execution_count": 23,
     "metadata": {},
     "output_type": "execute_result"
    }
   ],
   "source": [
    "model.fit(features_train,target_train)"
   ]
  },
  {
   "cell_type": "markdown",
   "metadata": {
    "id": "bLEjC36sYvDK"
   },
   "source": [
    "# Finding R Square of the Model"
   ]
  },
  {
   "cell_type": "code",
   "execution_count": 24,
   "metadata": {
    "colab": {
     "base_uri": "https://localhost:8080/"
    },
    "id": "2al_FRD85riF",
    "outputId": "39538364-dd9e-4b77-a62c-df0fbf38fadd"
   },
   "outputs": [
    {
     "data": {
      "text/plain": [
       "0.6074360589641193"
      ]
     },
     "execution_count": 24,
     "metadata": {},
     "output_type": "execute_result"
    }
   ],
   "source": [
    "model.score(features_train,target_train )"
   ]
  },
  {
   "cell_type": "markdown",
   "metadata": {
    "id": "qgBfsbfgYHub"
   },
   "source": [
    "- R-Square is approx 61% that means around 39% propotion in Variance of Dependent Variable is still unexplained which is a sign of underfitting."
   ]
  },
  {
   "cell_type": "markdown",
   "metadata": {
    "id": "AkTy5e_9l3w3"
   },
   "source": [
    "# Prediction"
   ]
  },
  {
   "cell_type": "code",
   "execution_count": 25,
   "metadata": {
    "id": "S_0f64p5wOvB"
   },
   "outputs": [],
   "source": [
    "target_pred = model.predict(features_test)"
   ]
  },
  {
   "cell_type": "code",
   "execution_count": 26,
   "metadata": {
    "colab": {
     "base_uri": "https://localhost:8080/"
    },
    "id": "0epwF8vv_ehh",
    "outputId": "e2e8b945-1114-493e-907e-980271679eb2"
   },
   "outputs": [
    {
     "name": "stdout",
     "output_type": "stream",
     "text": [
      "139    27\n",
      "353    32\n",
      "368    24\n",
      "195    17\n",
      "53     20\n",
      "Name: MPG_City, dtype: int64  [27.30025429 28.1587493  24.22428802 14.84192897 20.19930213]\n"
     ]
    }
   ],
   "source": [
    "print(f\"{target_test[:5]}  {target_pred[:5]}\")"
   ]
  },
  {
   "cell_type": "markdown",
   "metadata": {
    "id": "BxVQsLRarvKu"
   },
   "source": [
    "# Evaluation :Mean Absolute Error, Mean squared Error,Root mean squared error"
   ]
  },
  {
   "cell_type": "code",
   "execution_count": 27,
   "metadata": {
    "colab": {
     "base_uri": "https://localhost:8080/"
    },
    "id": "mFQbIezAn3C_",
    "outputId": "6bec5c23-11f2-4400-c69f-ace529c579a5"
   },
   "outputs": [
    {
     "name": "stdout",
     "output_type": "stream",
     "text": [
      "The MAE is : 1.6384978683238633\n",
      "The MSE is : 4.429807298233788\n",
      "The RMSE is : 2.1047107398010274\n"
     ]
    }
   ],
   "source": [
    "from sklearn import metrics\n",
    "import numpy as np\n",
    "print(f\"The MAE is : {metrics.mean_absolute_error(target_test,target_pred)}\")\n",
    "print(f\"The MSE is : {metrics.mean_squared_error(target_test,target_pred)}\")\n",
    "print(f\"The RMSE is : {np.sqrt(metrics.mean_squared_error(target_test,target_pred))}\")"
   ]
  },
  {
   "cell_type": "markdown",
   "metadata": {
    "id": "SaBR-vRAxA0L"
   },
   "source": [
    "- The benchmark model seems to perform well as the error metrics are quite low, however we need to check that whether the model assumptions are being fulfilled or not\n",
    "\n",
    "- For that, we will use statsmodel library"
   ]
  },
  {
   "cell_type": "markdown",
   "metadata": {
    "id": "RmftCQw1xfM3"
   },
   "source": [
    "# **First Regression model with all the numeric variables using statsmodel library**"
   ]
  },
  {
   "cell_type": "code",
   "execution_count": 28,
   "metadata": {
    "colab": {
     "base_uri": "https://localhost:8080/"
    },
    "id": "OCsFooohwdla",
    "outputId": "2f0ae4b5-6ef9-4557-e462-7ea52575adcd"
   },
   "outputs": [],
   "source": [
    "from statsmodels.formula.api import ols\n",
    "import statsmodels.api as sm"
   ]
  },
  {
   "cell_type": "markdown",
   "metadata": {
    "id": "JgT3FUnbaqCI"
   },
   "source": [
    "## Default statsmodel Regression :without Intercept"
   ]
  },
  {
   "cell_type": "code",
   "execution_count": 29,
   "metadata": {
    "colab": {
     "base_uri": "https://localhost:8080/"
    },
    "id": "361lR1eZyTE0",
    "outputId": "d8c05533-2897-4421-c3a3-b2d26297c144"
   },
   "outputs": [
    {
     "name": "stdout",
     "output_type": "stream",
     "text": [
      "The MAE is : 1.9470442552631049\n",
      "The MSE is : 7.087311312704072\n",
      "The RMSE is : 2.66220046440986\n"
     ]
    }
   ],
   "source": [
    "model_sm = sm.OLS(target_train,features_train).fit()\n",
    "target_pred = model_sm.predict(features_test)\n",
    "\n",
    "print(f\"The MAE is : {metrics.mean_absolute_error(target_test,target_pred)}\")\n",
    "print(f\"The MSE is : {metrics.mean_squared_error(target_test,target_pred)}\")\n",
    "print(f\"The RMSE is : {np.sqrt(metrics.mean_squared_error(target_test,target_pred))}\")"
   ]
  },
  {
   "cell_type": "markdown",
   "metadata": {
    "id": "OwSc0lFCvSw_"
   },
   "source": [
    "**Here we can observe that MAE ,MSE ,RMSE are quit higher than SK-Learn Model this is because Stats Model does not use intercept in the Model by default so the Model accuracy is bit on the lower side.**"
   ]
  },
  {
   "cell_type": "markdown",
   "metadata": {
    "id": "vIhjZ_KFcnDV"
   },
   "source": [
    "# Model Summary"
   ]
  },
  {
   "cell_type": "code",
   "execution_count": 30,
   "metadata": {
    "id": "f4PI58cjb_7j"
   },
   "outputs": [],
   "source": [
    "model_sm_summary = model_sm.summary()"
   ]
  },
  {
   "cell_type": "code",
   "execution_count": 31,
   "metadata": {
    "colab": {
     "base_uri": "https://localhost:8080/",
     "height": 572
    },
    "id": "ZTANDXjbxTMA",
    "outputId": "763e51b2-44f0-4b1b-89c9-ae2ee623aea5"
   },
   "outputs": [
    {
     "data": {
      "text/html": [
       "<table class=\"simpletable\">\n",
       "<caption>OLS Regression Results</caption>\n",
       "<tr>\n",
       "  <th>Dep. Variable:</th>        <td>MPG_City</td>     <th>  R-squared (uncentered):</th>      <td>   0.960</td> \n",
       "</tr>\n",
       "<tr>\n",
       "  <th>Model:</th>                   <td>OLS</td>       <th>  Adj. R-squared (uncentered):</th> <td>   0.959</td> \n",
       "</tr>\n",
       "<tr>\n",
       "  <th>Method:</th>             <td>Least Squares</td>  <th>  F-statistic:       </th>          <td>   1158.</td> \n",
       "</tr>\n",
       "<tr>\n",
       "  <th>Date:</th>             <td>Mon, 14 Feb 2022</td> <th>  Prob (F-statistic):</th>          <td>2.65e-200</td>\n",
       "</tr>\n",
       "<tr>\n",
       "  <th>Time:</th>                 <td>16:26:35</td>     <th>  Log-Likelihood:    </th>          <td> -850.37</td> \n",
       "</tr>\n",
       "<tr>\n",
       "  <th>No. Observations:</th>      <td>   298</td>      <th>  AIC:               </th>          <td>   1713.</td> \n",
       "</tr>\n",
       "<tr>\n",
       "  <th>Df Residuals:</th>          <td>   292</td>      <th>  BIC:               </th>          <td>   1735.</td> \n",
       "</tr>\n",
       "<tr>\n",
       "  <th>Df Model:</th>              <td>     6</td>      <th>                     </th>              <td> </td>    \n",
       "</tr>\n",
       "<tr>\n",
       "  <th>Covariance Type:</th>      <td>nonrobust</td>    <th>                     </th>              <td> </td>    \n",
       "</tr>\n",
       "</table>\n",
       "<table class=\"simpletable\">\n",
       "<tr>\n",
       "       <td></td>         <th>coef</th>     <th>std err</th>      <th>t</th>      <th>P>|t|</th>  <th>[0.025</th>    <th>0.975]</th>  \n",
       "</tr>\n",
       "<tr>\n",
       "  <th>EngineSize</th> <td>   -2.6898</td> <td>    0.569</td> <td>   -4.724</td> <td> 0.000</td> <td>   -3.811</td> <td>   -1.569</td>\n",
       "</tr>\n",
       "<tr>\n",
       "  <th>Cylinders</th>  <td>    0.7238</td> <td>    0.397</td> <td>    1.825</td> <td> 0.069</td> <td>   -0.057</td> <td>    1.504</td>\n",
       "</tr>\n",
       "<tr>\n",
       "  <th>Horsepower</th> <td>   -0.0093</td> <td>    0.006</td> <td>   -1.496</td> <td> 0.136</td> <td>   -0.022</td> <td>    0.003</td>\n",
       "</tr>\n",
       "<tr>\n",
       "  <th>Weight</th>     <td>   -0.0054</td> <td>    0.001</td> <td>   -8.864</td> <td> 0.000</td> <td>   -0.007</td> <td>   -0.004</td>\n",
       "</tr>\n",
       "<tr>\n",
       "  <th>Wheelbase</th>  <td>    0.3520</td> <td>    0.067</td> <td>    5.269</td> <td> 0.000</td> <td>    0.221</td> <td>    0.483</td>\n",
       "</tr>\n",
       "<tr>\n",
       "  <th>Length</th>     <td>    0.0424</td> <td>    0.037</td> <td>    1.142</td> <td> 0.254</td> <td>   -0.031</td> <td>    0.116</td>\n",
       "</tr>\n",
       "</table>\n",
       "<table class=\"simpletable\">\n",
       "<tr>\n",
       "  <th>Omnibus:</th>       <td>274.103</td> <th>  Durbin-Watson:     </th> <td>   2.034</td>\n",
       "</tr>\n",
       "<tr>\n",
       "  <th>Prob(Omnibus):</th> <td> 0.000</td>  <th>  Jarque-Bera (JB):  </th> <td>8668.383</td>\n",
       "</tr>\n",
       "<tr>\n",
       "  <th>Skew:</th>          <td> 3.632</td>  <th>  Prob(JB):          </th> <td>    0.00</td>\n",
       "</tr>\n",
       "<tr>\n",
       "  <th>Kurtosis:</th>      <td>28.404</td>  <th>  Cond. No.          </th> <td>9.44e+03</td>\n",
       "</tr>\n",
       "</table><br/><br/>Notes:<br/>[1] R² is computed without centering (uncentered) since the model does not contain a constant.<br/>[2] Standard Errors assume that the covariance matrix of the errors is correctly specified.<br/>[3] The condition number is large, 9.44e+03. This might indicate that there are<br/>strong multicollinearity or other numerical problems."
      ],
      "text/plain": [
       "<class 'statsmodels.iolib.summary.Summary'>\n",
       "\"\"\"\n",
       "                                 OLS Regression Results                                \n",
       "=======================================================================================\n",
       "Dep. Variable:               MPG_City   R-squared (uncentered):                   0.960\n",
       "Model:                            OLS   Adj. R-squared (uncentered):              0.959\n",
       "Method:                 Least Squares   F-statistic:                              1158.\n",
       "Date:                Mon, 14 Feb 2022   Prob (F-statistic):                   2.65e-200\n",
       "Time:                        16:26:35   Log-Likelihood:                         -850.37\n",
       "No. Observations:                 298   AIC:                                      1713.\n",
       "Df Residuals:                     292   BIC:                                      1735.\n",
       "Df Model:                           6                                                  \n",
       "Covariance Type:            nonrobust                                                  \n",
       "==============================================================================\n",
       "                 coef    std err          t      P>|t|      [0.025      0.975]\n",
       "------------------------------------------------------------------------------\n",
       "EngineSize    -2.6898      0.569     -4.724      0.000      -3.811      -1.569\n",
       "Cylinders      0.7238      0.397      1.825      0.069      -0.057       1.504\n",
       "Horsepower    -0.0093      0.006     -1.496      0.136      -0.022       0.003\n",
       "Weight        -0.0054      0.001     -8.864      0.000      -0.007      -0.004\n",
       "Wheelbase      0.3520      0.067      5.269      0.000       0.221       0.483\n",
       "Length         0.0424      0.037      1.142      0.254      -0.031       0.116\n",
       "==============================================================================\n",
       "Omnibus:                      274.103   Durbin-Watson:                   2.034\n",
       "Prob(Omnibus):                  0.000   Jarque-Bera (JB):             8668.383\n",
       "Skew:                           3.632   Prob(JB):                         0.00\n",
       "Kurtosis:                      28.404   Cond. No.                     9.44e+03\n",
       "==============================================================================\n",
       "\n",
       "Notes:\n",
       "[1] R² is computed without centering (uncentered) since the model does not contain a constant.\n",
       "[2] Standard Errors assume that the covariance matrix of the errors is correctly specified.\n",
       "[3] The condition number is large, 9.44e+03. This might indicate that there are\n",
       "strong multicollinearity or other numerical problems.\n",
       "\"\"\""
      ]
     },
     "execution_count": 31,
     "metadata": {},
     "output_type": "execute_result"
    }
   ],
   "source": [
    "model_sm_summary"
   ]
  },
  {
   "cell_type": "markdown",
   "metadata": {
    "id": "0mMdSvtUxl52"
   },
   "source": [
    "## Statsmodel Regression : With Intercept"
   ]
  },
  {
   "cell_type": "code",
   "execution_count": 32,
   "metadata": {
    "id": "zZacREOYxfgK"
   },
   "outputs": [
    {
     "name": "stderr",
     "output_type": "stream",
     "text": [
      "C:\\Users\\winpc\\anaconda3\\lib\\site-packages\\statsmodels\\tsa\\tsatools.py:142: FutureWarning: In a future version of pandas all arguments of concat except for the argument 'objs' will be keyword-only\n",
      "  x = pd.concat(x[::order], 1)\n"
     ]
    }
   ],
   "source": [
    "# Adding intercept\n",
    "features_train_intercept = sm.add_constant(features_train)\n",
    "features_test_intercept = sm.add_constant(features_test)"
   ]
  },
  {
   "cell_type": "code",
   "execution_count": 33,
   "metadata": {
    "colab": {
     "base_uri": "https://localhost:8080/"
    },
    "id": "ABMKfakNz4MX",
    "outputId": "a90e06e3-b4b6-41e5-cf2b-05a64a4a5469"
   },
   "outputs": [
    {
     "name": "stdout",
     "output_type": "stream",
     "text": [
      "The MAE is : 1.6384978683238183\n",
      "The MSE is : 4.42980729823324\n",
      "The RMSE is : 2.1047107398008973\n"
     ]
    }
   ],
   "source": [
    "# Creating the model with intercept included data\n",
    "\n",
    "model_sm = sm.OLS(target_train,features_train_intercept).fit()\n",
    "target_pred = model_sm.predict(features_test_intercept)\n",
    "\n",
    "print(f\"The MAE is : {metrics.mean_absolute_error(target_test,target_pred)}\")\n",
    "print(f\"The MSE is : {metrics.mean_squared_error(target_test,target_pred)}\")\n",
    "print(f\"The RMSE is : {np.sqrt(metrics.mean_squared_error(target_test,target_pred))}\")"
   ]
  },
  {
   "cell_type": "code",
   "execution_count": 34,
   "metadata": {
    "colab": {
     "base_uri": "https://localhost:8080/",
     "height": 593
    },
    "id": "EjyQl6h3xdZy",
    "outputId": "fbaf544a-5770-4a10-ef3a-1e6d9304bdd9"
   },
   "outputs": [
    {
     "data": {
      "text/html": [
       "<table class=\"simpletable\">\n",
       "<caption>OLS Regression Results</caption>\n",
       "<tr>\n",
       "  <th>Dep. Variable:</th>        <td>MPG_City</td>     <th>  R-squared:         </th> <td>   0.607</td>\n",
       "</tr>\n",
       "<tr>\n",
       "  <th>Model:</th>                   <td>OLS</td>       <th>  Adj. R-squared:    </th> <td>   0.599</td>\n",
       "</tr>\n",
       "<tr>\n",
       "  <th>Method:</th>             <td>Least Squares</td>  <th>  F-statistic:       </th> <td>   75.05</td>\n",
       "</tr>\n",
       "<tr>\n",
       "  <th>Date:</th>             <td>Mon, 14 Feb 2022</td> <th>  Prob (F-statistic):</th> <td>3.30e-56</td>\n",
       "</tr>\n",
       "<tr>\n",
       "  <th>Time:</th>                 <td>16:26:35</td>     <th>  Log-Likelihood:    </th> <td> -802.54</td>\n",
       "</tr>\n",
       "<tr>\n",
       "  <th>No. Observations:</th>      <td>   298</td>      <th>  AIC:               </th> <td>   1619.</td>\n",
       "</tr>\n",
       "<tr>\n",
       "  <th>Df Residuals:</th>          <td>   291</td>      <th>  BIC:               </th> <td>   1645.</td>\n",
       "</tr>\n",
       "<tr>\n",
       "  <th>Df Model:</th>              <td>     6</td>      <th>                     </th>     <td> </td>   \n",
       "</tr>\n",
       "<tr>\n",
       "  <th>Covariance Type:</th>      <td>nonrobust</td>    <th>                     </th>     <td> </td>   \n",
       "</tr>\n",
       "</table>\n",
       "<table class=\"simpletable\">\n",
       "<tr>\n",
       "       <td></td>         <th>coef</th>     <th>std err</th>      <th>t</th>      <th>P>|t|</th>  <th>[0.025</th>    <th>0.975]</th>  \n",
       "</tr>\n",
       "<tr>\n",
       "  <th>const</th>      <td>   36.8212</td> <td>    3.508</td> <td>   10.496</td> <td> 0.000</td> <td>   29.917</td> <td>   43.726</td>\n",
       "</tr>\n",
       "<tr>\n",
       "  <th>EngineSize</th> <td>   -0.5929</td> <td>    0.525</td> <td>   -1.129</td> <td> 0.260</td> <td>   -1.627</td> <td>    0.441</td>\n",
       "</tr>\n",
       "<tr>\n",
       "  <th>Cylinders</th>  <td>    0.1093</td> <td>    0.343</td> <td>    0.318</td> <td> 0.751</td> <td>   -0.567</td> <td>    0.785</td>\n",
       "</tr>\n",
       "<tr>\n",
       "  <th>Horsepower</th> <td>   -0.0220</td> <td>    0.005</td> <td>   -4.031</td> <td> 0.000</td> <td>   -0.033</td> <td>   -0.011</td>\n",
       "</tr>\n",
       "<tr>\n",
       "  <th>Weight</th>     <td>   -0.0039</td> <td>    0.001</td> <td>   -7.126</td> <td> 0.000</td> <td>   -0.005</td> <td>   -0.003</td>\n",
       "</tr>\n",
       "<tr>\n",
       "  <th>Wheelbase</th>  <td>    0.1417</td> <td>    0.060</td> <td>    2.346</td> <td> 0.020</td> <td>    0.023</td> <td>    0.261</td>\n",
       "</tr>\n",
       "<tr>\n",
       "  <th>Length</th>     <td>   -0.0645</td> <td>    0.033</td> <td>   -1.939</td> <td> 0.053</td> <td>   -0.130</td> <td>    0.001</td>\n",
       "</tr>\n",
       "</table>\n",
       "<table class=\"simpletable\">\n",
       "<tr>\n",
       "  <th>Omnibus:</th>       <td>346.128</td> <th>  Durbin-Watson:     </th> <td>   2.002</td> \n",
       "</tr>\n",
       "<tr>\n",
       "  <th>Prob(Omnibus):</th> <td> 0.000</td>  <th>  Jarque-Bera (JB):  </th> <td>20111.258</td>\n",
       "</tr>\n",
       "<tr>\n",
       "  <th>Skew:</th>          <td> 5.059</td>  <th>  Prob(JB):          </th> <td>    0.00</td> \n",
       "</tr>\n",
       "<tr>\n",
       "  <th>Kurtosis:</th>      <td>41.953</td>  <th>  Cond. No.          </th> <td>6.21e+04</td> \n",
       "</tr>\n",
       "</table><br/><br/>Notes:<br/>[1] Standard Errors assume that the covariance matrix of the errors is correctly specified.<br/>[2] The condition number is large, 6.21e+04. This might indicate that there are<br/>strong multicollinearity or other numerical problems."
      ],
      "text/plain": [
       "<class 'statsmodels.iolib.summary.Summary'>\n",
       "\"\"\"\n",
       "                            OLS Regression Results                            \n",
       "==============================================================================\n",
       "Dep. Variable:               MPG_City   R-squared:                       0.607\n",
       "Model:                            OLS   Adj. R-squared:                  0.599\n",
       "Method:                 Least Squares   F-statistic:                     75.05\n",
       "Date:                Mon, 14 Feb 2022   Prob (F-statistic):           3.30e-56\n",
       "Time:                        16:26:35   Log-Likelihood:                -802.54\n",
       "No. Observations:                 298   AIC:                             1619.\n",
       "Df Residuals:                     291   BIC:                             1645.\n",
       "Df Model:                           6                                         \n",
       "Covariance Type:            nonrobust                                         \n",
       "==============================================================================\n",
       "                 coef    std err          t      P>|t|      [0.025      0.975]\n",
       "------------------------------------------------------------------------------\n",
       "const         36.8212      3.508     10.496      0.000      29.917      43.726\n",
       "EngineSize    -0.5929      0.525     -1.129      0.260      -1.627       0.441\n",
       "Cylinders      0.1093      0.343      0.318      0.751      -0.567       0.785\n",
       "Horsepower    -0.0220      0.005     -4.031      0.000      -0.033      -0.011\n",
       "Weight        -0.0039      0.001     -7.126      0.000      -0.005      -0.003\n",
       "Wheelbase      0.1417      0.060      2.346      0.020       0.023       0.261\n",
       "Length        -0.0645      0.033     -1.939      0.053      -0.130       0.001\n",
       "==============================================================================\n",
       "Omnibus:                      346.128   Durbin-Watson:                   2.002\n",
       "Prob(Omnibus):                  0.000   Jarque-Bera (JB):            20111.258\n",
       "Skew:                           5.059   Prob(JB):                         0.00\n",
       "Kurtosis:                      41.953   Cond. No.                     6.21e+04\n",
       "==============================================================================\n",
       "\n",
       "Notes:\n",
       "[1] Standard Errors assume that the covariance matrix of the errors is correctly specified.\n",
       "[2] The condition number is large, 6.21e+04. This might indicate that there are\n",
       "strong multicollinearity or other numerical problems.\n",
       "\"\"\""
      ]
     },
     "execution_count": 34,
     "metadata": {},
     "output_type": "execute_result"
    }
   ],
   "source": [
    "model_sm.summary()"
   ]
  },
  {
   "cell_type": "markdown",
   "metadata": {
    "id": "zDV48BPufMiF"
   },
   "source": [
    "# Checking the Assumptions of the Model\n",
    "\n",
    "- **Multicollinearity**: Present\n",
    "\n",
    "    **Reason**: \n",
    "    \n",
    "    See the **Warnings[2]** --> The condition number is large, 6.21e+04. This might indicate that there are strong multicollinearity or other numerical problems. **High the Cond. No. high is the Multicollinearity.** **If no such warning is present then there is no multicolinearity**.\n",
    "\n",
    "\n",
    "- **Normality of the Residuals**: Not Normally distributed\n",
    "\n",
    "    **Reason**:  \n",
    "            Here **Prob(JB) = 0.00** but it should be > 0.05 \n",
    "            Here **Skew = 5.059** which is very high \n",
    "            Here **Kurtosis = 41.953** which is very high  \n",
    "            \n",
    "            **Due to multicollinearity the Cylinders and wheelbase have changed from -ve corr to +ve corr. which is not good.**\n",
    " \n",
    " - **Auto Correlation in the Residuals or (I.I.D)**: Auto Correlation in the Residuals is not present and I.I.D is maintained\n",
    "\n",
    "    **Reason**:  \n",
    "            Here **Durbin-Watson =\t2.002** and it should be around to 2 \n",
    "\n",
    "            \n",
    "\n"
   ]
  },
  {
   "cell_type": "markdown",
   "metadata": {
    "id": "MbALlI3oVXaW"
   },
   "source": [
    "# Model Improvement "
   ]
  },
  {
   "cell_type": "code",
   "execution_count": 35,
   "metadata": {
    "colab": {
     "base_uri": "https://localhost:8080/"
    },
    "id": "RrfbRU8vfqQU",
    "outputId": "833c82de-1485-4194-fb73-c3f0a5ce71a4"
   },
   "outputs": [
    {
     "data": {
      "text/plain": [
       "Type\n",
       "Hybrid    55.000000\n",
       "SUV       16.100000\n",
       "Sedan     21.083969\n",
       "Sports    18.425532\n",
       "Truck     16.500000\n",
       "Wagon     21.100000\n",
       "Name: MPG_City, dtype: float64"
      ]
     },
     "execution_count": 35,
     "metadata": {},
     "output_type": "execute_result"
    }
   ],
   "source": [
    "#groupby statistics : mileage by type\n",
    "data_nomiss.groupby(\"Type\")[\"MPG_City\"].mean()"
   ]
  },
  {
   "cell_type": "code",
   "execution_count": 36,
   "metadata": {
    "colab": {
     "base_uri": "https://localhost:8080/"
    },
    "id": "fImtPf0AWCQC",
    "outputId": "90b1afbe-8e01-4f5c-855e-78b99e44f798"
   },
   "outputs": [
    {
     "data": {
      "text/plain": [
       "Origin\n",
       "Asia      22.064103\n",
       "Europe    18.731707\n",
       "USA       19.074830\n",
       "Name: MPG_City, dtype: float64"
      ]
     },
     "execution_count": 36,
     "metadata": {},
     "output_type": "execute_result"
    }
   ],
   "source": [
    "#groupby statistics : mileage by Origin\n",
    "data_nomiss.groupby(\"Origin\")[\"MPG_City\"].mean()"
   ]
  },
  {
   "cell_type": "code",
   "execution_count": 37,
   "metadata": {
    "colab": {
     "base_uri": "https://localhost:8080/"
    },
    "id": "663bzNjuWVVj",
    "outputId": "308f9432-3105-4655-bc83-04abcf519434"
   },
   "outputs": [
    {
     "data": {
      "text/plain": [
       "Sedan     262\n",
       "SUV        60\n",
       "Sports     47\n",
       "Wagon      30\n",
       "Truck      24\n",
       "Hybrid      3\n",
       "Name: Type, dtype: int64"
      ]
     },
     "execution_count": 37,
     "metadata": {},
     "output_type": "execute_result"
    }
   ],
   "source": [
    "data_nomiss[\"Type\"].value_counts()"
   ]
  },
  {
   "cell_type": "code",
   "execution_count": 38,
   "metadata": {
    "colab": {
     "base_uri": "https://localhost:8080/"
    },
    "id": "oKa7MkDiWtDC",
    "outputId": "412022a0-7d83-4def-bd82-a6953575ff2e"
   },
   "outputs": [
    {
     "data": {
      "text/plain": [
       "Asia      156\n",
       "USA       147\n",
       "Europe    123\n",
       "Name: Origin, dtype: int64"
      ]
     },
     "execution_count": 38,
     "metadata": {},
     "output_type": "execute_result"
    }
   ],
   "source": [
    "data_nomiss[\"Origin\"].value_counts()"
   ]
  },
  {
   "cell_type": "markdown",
   "metadata": {},
   "source": [
    "## Create a subset with cars from \"Type==Sports\" or \"Origin==Europe\""
   ]
  },
  {
   "cell_type": "code",
   "execution_count": 39,
   "metadata": {},
   "outputs": [],
   "source": [
    "data_cars_sports_europe=data_num[(data_nomiss[\"Type\"]==\"Sports\")|(data_nomiss[\"Origin\"]==\"Europe\")]"
   ]
  },
  {
   "cell_type": "code",
   "execution_count": 40,
   "metadata": {},
   "outputs": [
    {
     "data": {
      "text/html": [
       "<div>\n",
       "<style scoped>\n",
       "    .dataframe tbody tr th:only-of-type {\n",
       "        vertical-align: middle;\n",
       "    }\n",
       "\n",
       "    .dataframe tbody tr th {\n",
       "        vertical-align: top;\n",
       "    }\n",
       "\n",
       "    .dataframe thead th {\n",
       "        text-align: right;\n",
       "    }\n",
       "</style>\n",
       "<table border=\"1\" class=\"dataframe\">\n",
       "  <thead>\n",
       "    <tr style=\"text-align: right;\">\n",
       "      <th></th>\n",
       "      <th>EngineSize</th>\n",
       "      <th>Cylinders</th>\n",
       "      <th>Horsepower</th>\n",
       "      <th>MPG_City</th>\n",
       "      <th>Weight</th>\n",
       "      <th>Wheelbase</th>\n",
       "      <th>Length</th>\n",
       "    </tr>\n",
       "  </thead>\n",
       "  <tbody>\n",
       "    <tr>\n",
       "      <th>0</th>\n",
       "      <td>3.2</td>\n",
       "      <td>6.0</td>\n",
       "      <td>290</td>\n",
       "      <td>17</td>\n",
       "      <td>3153</td>\n",
       "      <td>100</td>\n",
       "      <td>174</td>\n",
       "    </tr>\n",
       "    <tr>\n",
       "      <th>7</th>\n",
       "      <td>4.2</td>\n",
       "      <td>8.0</td>\n",
       "      <td>450</td>\n",
       "      <td>15</td>\n",
       "      <td>4024</td>\n",
       "      <td>109</td>\n",
       "      <td>191</td>\n",
       "    </tr>\n",
       "    <tr>\n",
       "      <th>8</th>\n",
       "      <td>4.2</td>\n",
       "      <td>8.0</td>\n",
       "      <td>330</td>\n",
       "      <td>17</td>\n",
       "      <td>4399</td>\n",
       "      <td>121</td>\n",
       "      <td>204</td>\n",
       "    </tr>\n",
       "    <tr>\n",
       "      <th>9</th>\n",
       "      <td>4.2</td>\n",
       "      <td>8.0</td>\n",
       "      <td>300</td>\n",
       "      <td>17</td>\n",
       "      <td>4024</td>\n",
       "      <td>109</td>\n",
       "      <td>193</td>\n",
       "    </tr>\n",
       "    <tr>\n",
       "      <th>10</th>\n",
       "      <td>4.2</td>\n",
       "      <td>8.0</td>\n",
       "      <td>340</td>\n",
       "      <td>15</td>\n",
       "      <td>3936</td>\n",
       "      <td>104</td>\n",
       "      <td>179</td>\n",
       "    </tr>\n",
       "  </tbody>\n",
       "</table>\n",
       "</div>"
      ],
      "text/plain": [
       "    EngineSize  Cylinders  Horsepower  MPG_City  Weight  Wheelbase  Length\n",
       "0          3.2        6.0         290        17    3153        100     174\n",
       "7          4.2        8.0         450        15    4024        109     191\n",
       "8          4.2        8.0         330        17    4399        121     204\n",
       "9          4.2        8.0         300        17    4024        109     193\n",
       "10         4.2        8.0         340        15    3936        104     179"
      ]
     },
     "execution_count": 40,
     "metadata": {},
     "output_type": "execute_result"
    }
   ],
   "source": [
    "data_cars_sports_europe.head()"
   ]
  },
  {
   "cell_type": "markdown",
   "metadata": {
    "id": "I1bqimOJX0OI"
   },
   "source": [
    "### **Modular Code for Regression**"
   ]
  },
  {
   "cell_type": "code",
   "execution_count": 41,
   "metadata": {
    "id": "8a2zJFM2Wx6l"
   },
   "outputs": [],
   "source": [
    "## Modular code for regression\n",
    "#This functn can be used everywhere\n",
    "\n",
    "def reg_model(data,target):\n",
    "    global x_train\n",
    "    global x_test\n",
    "    global y_train\n",
    "    global y_test\n",
    "    global model\n",
    "    global y_pred\n",
    "\n",
    "    X=data.drop(target,axis=1)\n",
    "    Y=data[target]\n",
    "#     print(X)\n",
    "#     print(Y)\n",
    "\n",
    "    x_train,x_test,y_train,y_test=train_test_split(X,Y,test_size=0.3,random_state=3)\n",
    "  \n",
    "    x_train_intercept=sm.add_constant(x_train)\n",
    "    x_test_intercept=sm.add_constant(x_test)\n",
    "\n",
    "    model=sm.OLS(y_train,x_train_intercept).fit()\n",
    "\n",
    "    y_pred=model.predict(x_test_intercept)\n",
    "\n",
    "    print(\"the MAE is: \",metrics.mean_absolute_error(y_test,y_pred))\n",
    "    print(\" \")\n",
    "    print(\"the MSE is: \",metrics.mean_squared_error(y_test,y_pred))\n",
    "    print(\" \")\n",
    "    print(\"the RMSE is: \",np.sqrt(metrics.mean_absolute_error(y_test,y_pred)))\n",
    "  \n",
    "    return(model.summary())"
   ]
  },
  {
   "cell_type": "markdown",
   "metadata": {},
   "source": [
    "### Calling the Function to do Predcition"
   ]
  },
  {
   "cell_type": "code",
   "execution_count": 42,
   "metadata": {
    "colab": {
     "base_uri": "https://localhost:8080/",
     "height": 680
    },
    "id": "0IH1MpK0xVHd",
    "outputId": "c44cf6ed-ae46-419c-f1fc-a53479fa25e1"
   },
   "outputs": [
    {
     "name": "stdout",
     "output_type": "stream",
     "text": [
      "the MAE is:  1.4172615399041213\n",
      " \n",
      "the MSE is:  7.622863826357929\n",
      " \n",
      "the RMSE is:  1.1904879419398255\n"
     ]
    },
    {
     "name": "stderr",
     "output_type": "stream",
     "text": [
      "C:\\Users\\winpc\\anaconda3\\lib\\site-packages\\statsmodels\\tsa\\tsatools.py:142: FutureWarning: In a future version of pandas all arguments of concat except for the argument 'objs' will be keyword-only\n",
      "  x = pd.concat(x[::order], 1)\n"
     ]
    },
    {
     "data": {
      "text/html": [
       "<table class=\"simpletable\">\n",
       "<caption>OLS Regression Results</caption>\n",
       "<tr>\n",
       "  <th>Dep. Variable:</th>        <td>MPG_City</td>     <th>  R-squared:         </th> <td>   0.817</td>\n",
       "</tr>\n",
       "<tr>\n",
       "  <th>Model:</th>                   <td>OLS</td>       <th>  Adj. R-squared:    </th> <td>   0.806</td>\n",
       "</tr>\n",
       "<tr>\n",
       "  <th>Method:</th>             <td>Least Squares</td>  <th>  F-statistic:       </th> <td>   70.76</td>\n",
       "</tr>\n",
       "<tr>\n",
       "  <th>Date:</th>             <td>Mon, 14 Feb 2022</td> <th>  Prob (F-statistic):</th> <td>7.19e-33</td>\n",
       "</tr>\n",
       "<tr>\n",
       "  <th>Time:</th>                 <td>16:26:35</td>     <th>  Log-Likelihood:    </th> <td> -162.11</td>\n",
       "</tr>\n",
       "<tr>\n",
       "  <th>No. Observations:</th>      <td>   102</td>      <th>  AIC:               </th> <td>   338.2</td>\n",
       "</tr>\n",
       "<tr>\n",
       "  <th>Df Residuals:</th>          <td>    95</td>      <th>  BIC:               </th> <td>   356.6</td>\n",
       "</tr>\n",
       "<tr>\n",
       "  <th>Df Model:</th>              <td>     6</td>      <th>                     </th>     <td> </td>   \n",
       "</tr>\n",
       "<tr>\n",
       "  <th>Covariance Type:</th>      <td>nonrobust</td>    <th>                     </th>     <td> </td>   \n",
       "</tr>\n",
       "</table>\n",
       "<table class=\"simpletable\">\n",
       "<tr>\n",
       "       <td></td>         <th>coef</th>     <th>std err</th>      <th>t</th>      <th>P>|t|</th>  <th>[0.025</th>    <th>0.975]</th>  \n",
       "</tr>\n",
       "<tr>\n",
       "  <th>const</th>      <td>   25.6135</td> <td>    2.235</td> <td>   11.458</td> <td> 0.000</td> <td>   21.176</td> <td>   30.051</td>\n",
       "</tr>\n",
       "<tr>\n",
       "  <th>EngineSize</th> <td>   -0.5235</td> <td>    0.290</td> <td>   -1.805</td> <td> 0.074</td> <td>   -1.099</td> <td>    0.052</td>\n",
       "</tr>\n",
       "<tr>\n",
       "  <th>Cylinders</th>  <td>   -0.2451</td> <td>    0.201</td> <td>   -1.222</td> <td> 0.225</td> <td>   -0.643</td> <td>    0.153</td>\n",
       "</tr>\n",
       "<tr>\n",
       "  <th>Horsepower</th> <td>   -0.0077</td> <td>    0.002</td> <td>   -3.129</td> <td> 0.002</td> <td>   -0.013</td> <td>   -0.003</td>\n",
       "</tr>\n",
       "<tr>\n",
       "  <th>Weight</th>     <td>   -0.0024</td> <td>    0.000</td> <td>   -6.528</td> <td> 0.000</td> <td>   -0.003</td> <td>   -0.002</td>\n",
       "</tr>\n",
       "<tr>\n",
       "  <th>Wheelbase</th>  <td>    0.1240</td> <td>    0.036</td> <td>    3.402</td> <td> 0.001</td> <td>    0.052</td> <td>    0.196</td>\n",
       "</tr>\n",
       "<tr>\n",
       "  <th>Length</th>     <td>   -0.0342</td> <td>    0.022</td> <td>   -1.577</td> <td> 0.118</td> <td>   -0.077</td> <td>    0.009</td>\n",
       "</tr>\n",
       "</table>\n",
       "<table class=\"simpletable\">\n",
       "<tr>\n",
       "  <th>Omnibus:</th>       <td> 3.314</td> <th>  Durbin-Watson:     </th> <td>   2.021</td>\n",
       "</tr>\n",
       "<tr>\n",
       "  <th>Prob(Omnibus):</th> <td> 0.191</td> <th>  Jarque-Bera (JB):  </th> <td>   2.174</td>\n",
       "</tr>\n",
       "<tr>\n",
       "  <th>Skew:</th>          <td>-0.150</td> <th>  Prob(JB):          </th> <td>   0.337</td>\n",
       "</tr>\n",
       "<tr>\n",
       "  <th>Kurtosis:</th>      <td> 2.351</td> <th>  Cond. No.          </th> <td>6.68e+04</td>\n",
       "</tr>\n",
       "</table><br/><br/>Notes:<br/>[1] Standard Errors assume that the covariance matrix of the errors is correctly specified.<br/>[2] The condition number is large, 6.68e+04. This might indicate that there are<br/>strong multicollinearity or other numerical problems."
      ],
      "text/plain": [
       "<class 'statsmodels.iolib.summary.Summary'>\n",
       "\"\"\"\n",
       "                            OLS Regression Results                            \n",
       "==============================================================================\n",
       "Dep. Variable:               MPG_City   R-squared:                       0.817\n",
       "Model:                            OLS   Adj. R-squared:                  0.806\n",
       "Method:                 Least Squares   F-statistic:                     70.76\n",
       "Date:                Mon, 14 Feb 2022   Prob (F-statistic):           7.19e-33\n",
       "Time:                        16:26:35   Log-Likelihood:                -162.11\n",
       "No. Observations:                 102   AIC:                             338.2\n",
       "Df Residuals:                      95   BIC:                             356.6\n",
       "Df Model:                           6                                         \n",
       "Covariance Type:            nonrobust                                         \n",
       "==============================================================================\n",
       "                 coef    std err          t      P>|t|      [0.025      0.975]\n",
       "------------------------------------------------------------------------------\n",
       "const         25.6135      2.235     11.458      0.000      21.176      30.051\n",
       "EngineSize    -0.5235      0.290     -1.805      0.074      -1.099       0.052\n",
       "Cylinders     -0.2451      0.201     -1.222      0.225      -0.643       0.153\n",
       "Horsepower    -0.0077      0.002     -3.129      0.002      -0.013      -0.003\n",
       "Weight        -0.0024      0.000     -6.528      0.000      -0.003      -0.002\n",
       "Wheelbase      0.1240      0.036      3.402      0.001       0.052       0.196\n",
       "Length        -0.0342      0.022     -1.577      0.118      -0.077       0.009\n",
       "==============================================================================\n",
       "Omnibus:                        3.314   Durbin-Watson:                   2.021\n",
       "Prob(Omnibus):                  0.191   Jarque-Bera (JB):                2.174\n",
       "Skew:                          -0.150   Prob(JB):                        0.337\n",
       "Kurtosis:                       2.351   Cond. No.                     6.68e+04\n",
       "==============================================================================\n",
       "\n",
       "Notes:\n",
       "[1] Standard Errors assume that the covariance matrix of the errors is correctly specified.\n",
       "[2] The condition number is large, 6.68e+04. This might indicate that there are\n",
       "strong multicollinearity or other numerical problems.\n",
       "\"\"\""
      ]
     },
     "execution_count": 42,
     "metadata": {},
     "output_type": "execute_result"
    }
   ],
   "source": [
    "reg_model(data_cars_sports_europe,\"MPG_City\")"
   ]
  },
  {
   "cell_type": "markdown",
   "metadata": {
    "id": "8iO7oE8BmJDX"
   },
   "source": [
    "### Comparing Actual MPG_City and Predicted MPG_City"
   ]
  },
  {
   "cell_type": "code",
   "execution_count": 43,
   "metadata": {
    "id": "hLLT8Yz_nrP7"
   },
   "outputs": [],
   "source": [
    "dict_temp = {\"Actual MPG_City\":y_test,\"Predicted MPG_City\":y_pred,\"Residual\":(y_test-y_pred)}"
   ]
  },
  {
   "cell_type": "code",
   "execution_count": 44,
   "metadata": {
    "id": "0WZ-wxyXf3On"
   },
   "outputs": [],
   "source": [
    "df_temp = pd.DataFrame(dict_temp)"
   ]
  },
  {
   "cell_type": "code",
   "execution_count": 45,
   "metadata": {
    "id": "3-ovb84tnk81"
   },
   "outputs": [],
   "source": [
    "df_temp.sort_index(axis = 0,inplace = True)"
   ]
  },
  {
   "cell_type": "code",
   "execution_count": 46,
   "metadata": {
    "scrolled": true
   },
   "outputs": [
    {
     "data": {
      "text/html": [
       "<div>\n",
       "<style scoped>\n",
       "    .dataframe tbody tr th:only-of-type {\n",
       "        vertical-align: middle;\n",
       "    }\n",
       "\n",
       "    .dataframe tbody tr th {\n",
       "        vertical-align: top;\n",
       "    }\n",
       "\n",
       "    .dataframe thead th {\n",
       "        text-align: right;\n",
       "    }\n",
       "</style>\n",
       "<table border=\"1\" class=\"dataframe\">\n",
       "  <thead>\n",
       "    <tr style=\"text-align: right;\">\n",
       "      <th></th>\n",
       "      <th>Actual MPG_City</th>\n",
       "      <th>Predicted MPG_City</th>\n",
       "      <th>Residual</th>\n",
       "    </tr>\n",
       "  </thead>\n",
       "  <tbody>\n",
       "    <tr>\n",
       "      <th>9</th>\n",
       "      <td>17</td>\n",
       "      <td>16.271833</td>\n",
       "      <td>0.728167</td>\n",
       "    </tr>\n",
       "    <tr>\n",
       "      <th>11</th>\n",
       "      <td>14</td>\n",
       "      <td>16.308103</td>\n",
       "      <td>-2.308103</td>\n",
       "    </tr>\n",
       "    <tr>\n",
       "      <th>12</th>\n",
       "      <td>18</td>\n",
       "      <td>17.979234</td>\n",
       "      <td>0.020766</td>\n",
       "    </tr>\n",
       "    <tr>\n",
       "      <th>14</th>\n",
       "      <td>20</td>\n",
       "      <td>18.463854</td>\n",
       "      <td>1.536146</td>\n",
       "    </tr>\n",
       "    <tr>\n",
       "      <th>20</th>\n",
       "      <td>23</td>\n",
       "      <td>20.394521</td>\n",
       "      <td>2.605479</td>\n",
       "    </tr>\n",
       "    <tr>\n",
       "      <th>21</th>\n",
       "      <td>20</td>\n",
       "      <td>21.030279</td>\n",
       "      <td>-1.030279</td>\n",
       "    </tr>\n",
       "    <tr>\n",
       "      <th>23</th>\n",
       "      <td>17</td>\n",
       "      <td>18.936576</td>\n",
       "      <td>-1.936576</td>\n",
       "    </tr>\n",
       "    <tr>\n",
       "      <th>28</th>\n",
       "      <td>16</td>\n",
       "      <td>18.047120</td>\n",
       "      <td>-2.047120</td>\n",
       "    </tr>\n",
       "    <tr>\n",
       "      <th>29</th>\n",
       "      <td>18</td>\n",
       "      <td>17.175162</td>\n",
       "      <td>0.824838</td>\n",
       "    </tr>\n",
       "    <tr>\n",
       "      <th>31</th>\n",
       "      <td>16</td>\n",
       "      <td>18.938429</td>\n",
       "      <td>-2.938429</td>\n",
       "    </tr>\n",
       "    <tr>\n",
       "      <th>33</th>\n",
       "      <td>19</td>\n",
       "      <td>19.258256</td>\n",
       "      <td>-0.258256</td>\n",
       "    </tr>\n",
       "    <tr>\n",
       "      <th>37</th>\n",
       "      <td>20</td>\n",
       "      <td>19.616333</td>\n",
       "      <td>0.383667</td>\n",
       "    </tr>\n",
       "    <tr>\n",
       "      <th>41</th>\n",
       "      <td>20</td>\n",
       "      <td>20.931170</td>\n",
       "      <td>-0.931170</td>\n",
       "    </tr>\n",
       "    <tr>\n",
       "      <th>44</th>\n",
       "      <td>19</td>\n",
       "      <td>20.246217</td>\n",
       "      <td>-1.246217</td>\n",
       "    </tr>\n",
       "    <tr>\n",
       "      <th>55</th>\n",
       "      <td>17</td>\n",
       "      <td>16.967854</td>\n",
       "      <td>0.032146</td>\n",
       "    </tr>\n",
       "    <tr>\n",
       "      <th>63</th>\n",
       "      <td>18</td>\n",
       "      <td>16.941155</td>\n",
       "      <td>1.058845</td>\n",
       "    </tr>\n",
       "    <tr>\n",
       "      <th>64</th>\n",
       "      <td>18</td>\n",
       "      <td>16.946025</td>\n",
       "      <td>1.053975</td>\n",
       "    </tr>\n",
       "    <tr>\n",
       "      <th>119</th>\n",
       "      <td>17</td>\n",
       "      <td>17.167812</td>\n",
       "      <td>-0.167812</td>\n",
       "    </tr>\n",
       "    <tr>\n",
       "      <th>189</th>\n",
       "      <td>16</td>\n",
       "      <td>14.874509</td>\n",
       "      <td>1.125491</td>\n",
       "    </tr>\n",
       "    <tr>\n",
       "      <th>192</th>\n",
       "      <td>18</td>\n",
       "      <td>15.762060</td>\n",
       "      <td>2.237940</td>\n",
       "    </tr>\n",
       "    <tr>\n",
       "      <th>196</th>\n",
       "      <td>18</td>\n",
       "      <td>17.856871</td>\n",
       "      <td>0.143129</td>\n",
       "    </tr>\n",
       "    <tr>\n",
       "      <th>197</th>\n",
       "      <td>18</td>\n",
       "      <td>17.461412</td>\n",
       "      <td>0.538588</td>\n",
       "    </tr>\n",
       "    <tr>\n",
       "      <th>219</th>\n",
       "      <td>18</td>\n",
       "      <td>16.436304</td>\n",
       "      <td>1.563696</td>\n",
       "    </tr>\n",
       "    <tr>\n",
       "      <th>239</th>\n",
       "      <td>28</td>\n",
       "      <td>23.906902</td>\n",
       "      <td>4.093098</td>\n",
       "    </tr>\n",
       "    <tr>\n",
       "      <th>243</th>\n",
       "      <td>23</td>\n",
       "      <td>22.492170</td>\n",
       "      <td>0.507830</td>\n",
       "    </tr>\n",
       "    <tr>\n",
       "      <th>251</th>\n",
       "      <td>13</td>\n",
       "      <td>12.554040</td>\n",
       "      <td>0.445960</td>\n",
       "    </tr>\n",
       "    <tr>\n",
       "      <th>254</th>\n",
       "      <td>16</td>\n",
       "      <td>16.206660</td>\n",
       "      <td>-0.206660</td>\n",
       "    </tr>\n",
       "    <tr>\n",
       "      <th>257</th>\n",
       "      <td>13</td>\n",
       "      <td>13.118833</td>\n",
       "      <td>-0.118833</td>\n",
       "    </tr>\n",
       "    <tr>\n",
       "      <th>258</th>\n",
       "      <td>18</td>\n",
       "      <td>17.350385</td>\n",
       "      <td>0.649615</td>\n",
       "    </tr>\n",
       "    <tr>\n",
       "      <th>264</th>\n",
       "      <td>19</td>\n",
       "      <td>18.507542</td>\n",
       "      <td>0.492458</td>\n",
       "    </tr>\n",
       "    <tr>\n",
       "      <th>265</th>\n",
       "      <td>19</td>\n",
       "      <td>19.313616</td>\n",
       "      <td>-0.313616</td>\n",
       "    </tr>\n",
       "    <tr>\n",
       "      <th>269</th>\n",
       "      <td>19</td>\n",
       "      <td>19.600357</td>\n",
       "      <td>-0.600357</td>\n",
       "    </tr>\n",
       "    <tr>\n",
       "      <th>276</th>\n",
       "      <td>22</td>\n",
       "      <td>21.510023</td>\n",
       "      <td>0.489977</td>\n",
       "    </tr>\n",
       "    <tr>\n",
       "      <th>292</th>\n",
       "      <td>21</td>\n",
       "      <td>19.542504</td>\n",
       "      <td>1.457496</td>\n",
       "    </tr>\n",
       "    <tr>\n",
       "      <th>306</th>\n",
       "      <td>20</td>\n",
       "      <td>19.464579</td>\n",
       "      <td>0.535421</td>\n",
       "    </tr>\n",
       "    <tr>\n",
       "      <th>336</th>\n",
       "      <td>20</td>\n",
       "      <td>20.103842</td>\n",
       "      <td>-0.103842</td>\n",
       "    </tr>\n",
       "    <tr>\n",
       "      <th>339</th>\n",
       "      <td>21</td>\n",
       "      <td>20.299327</td>\n",
       "      <td>0.700673</td>\n",
       "    </tr>\n",
       "    <tr>\n",
       "      <th>341</th>\n",
       "      <td>21</td>\n",
       "      <td>19.940435</td>\n",
       "      <td>1.059565</td>\n",
       "    </tr>\n",
       "    <tr>\n",
       "      <th>383</th>\n",
       "      <td>26</td>\n",
       "      <td>24.085081</td>\n",
       "      <td>1.914919</td>\n",
       "    </tr>\n",
       "    <tr>\n",
       "      <th>402</th>\n",
       "      <td>16</td>\n",
       "      <td>13.894077</td>\n",
       "      <td>2.105923</td>\n",
       "    </tr>\n",
       "    <tr>\n",
       "      <th>403</th>\n",
       "      <td>18</td>\n",
       "      <td>16.437629</td>\n",
       "      <td>1.562371</td>\n",
       "    </tr>\n",
       "    <tr>\n",
       "      <th>411</th>\n",
       "      <td>38</td>\n",
       "      <td>21.955073</td>\n",
       "      <td>16.044927</td>\n",
       "    </tr>\n",
       "    <tr>\n",
       "      <th>418</th>\n",
       "      <td>15</td>\n",
       "      <td>16.825667</td>\n",
       "      <td>-1.825667</td>\n",
       "    </tr>\n",
       "    <tr>\n",
       "      <th>422</th>\n",
       "      <td>18</td>\n",
       "      <td>19.162527</td>\n",
       "      <td>-1.162527</td>\n",
       "    </tr>\n",
       "    <tr>\n",
       "      <th>423</th>\n",
       "      <td>20</td>\n",
       "      <td>19.331803</td>\n",
       "      <td>0.668197</td>\n",
       "    </tr>\n",
       "  </tbody>\n",
       "</table>\n",
       "</div>"
      ],
      "text/plain": [
       "     Actual MPG_City  Predicted MPG_City   Residual\n",
       "9                 17           16.271833   0.728167\n",
       "11                14           16.308103  -2.308103\n",
       "12                18           17.979234   0.020766\n",
       "14                20           18.463854   1.536146\n",
       "20                23           20.394521   2.605479\n",
       "21                20           21.030279  -1.030279\n",
       "23                17           18.936576  -1.936576\n",
       "28                16           18.047120  -2.047120\n",
       "29                18           17.175162   0.824838\n",
       "31                16           18.938429  -2.938429\n",
       "33                19           19.258256  -0.258256\n",
       "37                20           19.616333   0.383667\n",
       "41                20           20.931170  -0.931170\n",
       "44                19           20.246217  -1.246217\n",
       "55                17           16.967854   0.032146\n",
       "63                18           16.941155   1.058845\n",
       "64                18           16.946025   1.053975\n",
       "119               17           17.167812  -0.167812\n",
       "189               16           14.874509   1.125491\n",
       "192               18           15.762060   2.237940\n",
       "196               18           17.856871   0.143129\n",
       "197               18           17.461412   0.538588\n",
       "219               18           16.436304   1.563696\n",
       "239               28           23.906902   4.093098\n",
       "243               23           22.492170   0.507830\n",
       "251               13           12.554040   0.445960\n",
       "254               16           16.206660  -0.206660\n",
       "257               13           13.118833  -0.118833\n",
       "258               18           17.350385   0.649615\n",
       "264               19           18.507542   0.492458\n",
       "265               19           19.313616  -0.313616\n",
       "269               19           19.600357  -0.600357\n",
       "276               22           21.510023   0.489977\n",
       "292               21           19.542504   1.457496\n",
       "306               20           19.464579   0.535421\n",
       "336               20           20.103842  -0.103842\n",
       "339               21           20.299327   0.700673\n",
       "341               21           19.940435   1.059565\n",
       "383               26           24.085081   1.914919\n",
       "402               16           13.894077   2.105923\n",
       "403               18           16.437629   1.562371\n",
       "411               38           21.955073  16.044927\n",
       "418               15           16.825667  -1.825667\n",
       "422               18           19.162527  -1.162527\n",
       "423               20           19.331803   0.668197"
      ]
     },
     "execution_count": 46,
     "metadata": {},
     "output_type": "execute_result"
    }
   ],
   "source": [
    "df_temp"
   ]
  },
  {
   "cell_type": "markdown",
   "metadata": {},
   "source": [
    "### Result stored in a CSV file."
   ]
  },
  {
   "cell_type": "code",
   "execution_count": 47,
   "metadata": {
    "id": "FVDMIypInGCB"
   },
   "outputs": [],
   "source": [
    "df_temp.to_csv('final_predicted.csv')"
   ]
  },
  {
   "cell_type": "code",
   "execution_count": null,
   "metadata": {
    "id": "ToRpj2Ap3e1d"
   },
   "outputs": [],
   "source": []
  },
  {
   "cell_type": "code",
   "execution_count": null,
   "metadata": {
    "id": "jSCX-MVb2MU1"
   },
   "outputs": [],
   "source": []
  },
  {
   "cell_type": "code",
   "execution_count": null,
   "metadata": {
    "id": "9l0rLXpf2KBV"
   },
   "outputs": [],
   "source": []
  },
  {
   "cell_type": "code",
   "execution_count": null,
   "metadata": {
    "id": "FohkdU-S2HA_"
   },
   "outputs": [],
   "source": []
  },
  {
   "cell_type": "code",
   "execution_count": null,
   "metadata": {
    "id": "EqbzHIIf0jjV"
   },
   "outputs": [],
   "source": []
  },
  {
   "cell_type": "code",
   "execution_count": null,
   "metadata": {
    "id": "AhYcdnUyz5W9"
   },
   "outputs": [],
   "source": []
  },
  {
   "cell_type": "code",
   "execution_count": null,
   "metadata": {
    "id": "0POSpmLp0qix"
   },
   "outputs": [],
   "source": []
  }
 ],
 "metadata": {
  "colab": {
   "collapsed_sections": [],
   "name": " Car Mileage Prediction using Regression.ipynb",
   "provenance": []
  },
  "kernelspec": {
   "display_name": "Python 3 (ipykernel)",
   "language": "python",
   "name": "python3"
  },
  "language_info": {
   "codemirror_mode": {
    "name": "ipython",
    "version": 3
   },
   "file_extension": ".py",
   "mimetype": "text/x-python",
   "name": "python",
   "nbconvert_exporter": "python",
   "pygments_lexer": "ipython3",
   "version": "3.9.7"
  }
 },
 "nbformat": 4,
 "nbformat_minor": 1
}
